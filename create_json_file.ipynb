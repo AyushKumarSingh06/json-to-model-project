{
 "cells": [
  {
   "cell_type": "code",
   "execution_count": 2,
   "id": "16547089-5a68-4678-8105-fb5dad76f6e3",
   "metadata": {},
   "outputs": [],
   "source": [
    "import json\n",
    "data = { \"users\": [ {\"id\":1, \"name\":\"amit\",\"friend\":[2,3], \"liked_pages\":[101]},\n",
    "                    {\"id\":2, \"name\":\"priya\",\"friend\":[1,4], \"liked_pages\":[102]},\n",
    "                    {\"id\":3, \"name\":\"Rahul\",\"friend\":[1], \"liked_pages\":[101,103]},\n",
    "                    {\"id\":4, \"name\":\"sara\",\"friend\":[2], \"liked_pages\":[104]},\n",
    "                    {\"id\":4, \"name\":\"sara\",\"friend\":[], \"liked_pages\":[]},\n",
    "                  ],\n",
    "        \"pages\":[ \n",
    "            {\"id\":101, \"name\":\"Python Developers\"},\n",
    "            {\"id\":102, \"name\":\"Data Science Enthusiasts\"},\n",
    "            {\"id\":103, \"name\":\"AI & ML Community\"},\n",
    "            {\"id\":104, \"name\":\"Web Dev Hub\"},\n",
    "            {\"id\":104, \"name\":\"Web Dev Hub\"}\n",
    "             ]\n",
    "        }\n",
    "\n"
   ]
  },
  {
   "cell_type": "code",
   "execution_count": 3,
   "id": "e553b2ef-cbf1-496d-b969-329aa4be41c0",
   "metadata": {},
   "outputs": [
    {
     "name": "stdout",
     "output_type": "stream",
     "text": [
      "json saved successfully.\n"
     ]
    }
   ],
   "source": [
    "with open(\"codebook_data.json\", \"w\") as file:\n",
    "                data= json.dump(data, file)\n",
    "print ( \"json saved successfully.\")\n",
    "    "
   ]
  },
  {
   "cell_type": "code",
   "execution_count": null,
   "id": "00dfc5f0-65d3-467f-99d1-124aeb7c11fc",
   "metadata": {},
   "outputs": [],
   "source": []
  }
 ],
 "metadata": {
  "kernelspec": {
   "display_name": "Python 3 (ipykernel)",
   "language": "python",
   "name": "python3"
  },
  "language_info": {
   "codemirror_mode": {
    "name": "ipython",
    "version": 3
   },
   "file_extension": ".py",
   "mimetype": "text/x-python",
   "name": "python",
   "nbconvert_exporter": "python",
   "pygments_lexer": "ipython3",
   "version": "3.12.7"
  }
 },
 "nbformat": 4,
 "nbformat_minor": 5
}
