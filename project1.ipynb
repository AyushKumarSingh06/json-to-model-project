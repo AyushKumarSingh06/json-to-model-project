{
 "cells": [
  {
   "cell_type": "markdown",
   "id": "a72b0ef5-39d4-48c0-abf3-83dd16df1645",
   "metadata": {},
   "source": [
    "import json\n",
    "# Load the JSON file\n",
    "def load_data(codebook_data):\n",
    "    with open ( codebook_data, \"r\") as file:\n",
    "        data=json.load(file)\n",
    "    return data"
   ]
  },
  {
   "cell_type": "code",
   "execution_count": 22,
   "id": "cc2e64e8-6c1c-435a-93a3-a854c1b0f0b7",
   "metadata": {},
   "outputs": [
    {
     "name": "stdout",
     "output_type": "stream",
     "text": [
      "Users and Their Connections:\n",
      "\n",
      "amit (ID:1)- Friends: [2, 3]- Liked Pages: [101]\n",
      "priya (ID:2)- Friends: [1, 4]- Liked Pages: [102]\n",
      "Rahul (ID:3)- Friends: [1]- Liked Pages: [101, 103]\n",
      "sara (ID:4)- Friends: [2]- Liked Pages: [104]\n",
      "sara (ID:4)- Friends: []- Liked Pages: []\n",
      "\n",
      "Pages:\n",
      "\n",
      "101:Python Developers\n",
      "102:Data Science Enthusiasts\n",
      "103:AI & ML Community\n",
      "104:Web Dev Hub\n",
      "104:Web Dev Hub\n"
     ]
    }
   ],
   "source": [
    "# Display users and their connections \n",
    "def display_users(data):\n",
    "    print(\"Users and Their Connections:\\n\")\n",
    "    for user in data [\"users\"]:\n",
    "        print(f\"{user['name']} (ID:{user['id']})- Friends: {user['friend']}- Liked Pages: {user['liked_pages']}\")\n",
    "    print(\"\\nPages:\\n\")\n",
    "    \n",
    "    for page in data[\"pages\"]:\n",
    "        print(f\"{page['id']}:{page['name']}\")\n",
    "\n",
    "# Load and display the data \n",
    "data=load_data(\"codebook_data.json\")\n",
    "display_users(data)\n",
    "        "
   ]
  },
  {
   "cell_type": "markdown",
   "id": "0454e21f-fcf3-40a3-82c6-b9a2b4de3d7b",
   "metadata": {},
   "source": [
    "# Clean the Data"
   ]
  },
  {
   "cell_type": "code",
   "execution_count": 23,
   "id": "79f24cac-91b8-4db6-a33c-048a2a11d266",
   "metadata": {},
   "outputs": [
    {
     "name": "stdout",
     "output_type": "stream",
     "text": [
      "Data cleaned successfully\n"
     ]
    }
   ],
   "source": [
    "import json \n",
    "def clean_data(data):\n",
    "    # Remove users with missing names \n",
    "    data[\"users\"]=[user for user in data [\"users\"] if user [\"name\"].strip()]\n",
    "    # Remove duplicate friends \n",
    "    for user in data[\"users\"]:\n",
    "        user[\"friend\"]= list(set(user[\"friend\"]))\n",
    "    data[\"users\"]=[user for user in data [\"users\"] if user[\"friend\"] or user[\"liked_pages\"]]\n",
    "    # Remove inactive users \n",
    "    data[\"user\"] = [user for user in  data [\"users\"] if user[\"friend\"] or user[\"liked_pages\"]]\n",
    "    #Remove duplicate pages\n",
    "    unique_pages={}\n",
    "    for page in data[\"pages\"]:\n",
    "        unique_pages[page[\"id\"]]=page\n",
    "    data[\"pages\"]=list(unique_pages.values())\n",
    "    return data\n",
    "\n",
    "# Load, clean, and display the cleaned data\n",
    "data=json.load(open(\"codebook_data.json\"))\n",
    "data=clean_data(data)\n",
    "json.dump(data,open(\"cleaned_codebook_data.json\",\"w\"),indent=4)\n",
    "print(\"Data cleaned successfully\")\n",
    "\n",
    "    "
   ]
  },
  {
   "cell_type": "markdown",
   "id": "19942d36-98fd-4add-8fea-36c776f5e54d",
   "metadata": {},
   "source": [
    "# create a algorithms findingg \" People You May Know\"."
   ]
  },
  {
   "cell_type": "code",
   "execution_count": 24,
   "id": "2309bfdc-481f-4d0b-bb5f-7f1d291cbe54",
   "metadata": {},
   "outputs": [
    {
     "name": "stdout",
     "output_type": "stream",
     "text": [
      "people you may know for user 1:[4]\n"
     ]
    }
   ],
   "source": [
    "import json\n",
    "def load_data(cleaned_codebook_data):\n",
    "    with open (cleaned_codebook_data)as file:\n",
    "        return json.load(file)\n",
    "\n",
    "def find_people_you_may_know(user_id, data):\n",
    "    user_friend={}\n",
    "    for user in data[\"users\"]:\n",
    "        user_friend[user[\"id\"]] = set(user[\"friend\"])\n",
    "    if user_id not in user_friend:\n",
    "        return[]\n",
    "\n",
    "    direct_friend =user_friend[user_id]\n",
    "    suggestions ={}\n",
    "\n",
    "    for friend in direct_friend:\n",
    "        # For all friends of friend\n",
    "        for mutual in user_friend[friend]:\n",
    "            # if mutual id is not the same user and not already a direct friend of user\n",
    "            if mutual != user_id and mutual not in direct_friend:\n",
    "                #count mutual friends \n",
    "                suggestions[mutual] = suggestions.get(mutual, 0) + 1\n",
    "\n",
    "    sorted_suggestions =sorted(suggestions.items(), key=lambda x: x[1], reverse=True)\n",
    "    return [user_id for user_id, _ in sorted_suggestions]\n",
    "\n",
    "# Load data \n",
    "data = load_data(\"cleaned_codebook_data.json\")\n",
    "user_id =1 # Example: finding suggestions for Amit \n",
    "recommendations = find_people_you_may_know(user_id, data)\n",
    "print (f\"people you may know for user {user_id}:{recommendations}\")\n"
   ]
  },
  {
   "cell_type": "code",
   "execution_count": 25,
   "id": "984ce109-fd94-461b-960a-873d5ac7b3e6",
   "metadata": {},
   "outputs": [],
   "source": [
    "# this is suggests that Amit should connect with sara!"
   ]
  },
  {
   "cell_type": "markdown",
   "id": "18a54c67-6853-44ba-a1b0-e66cd917509f",
   "metadata": {},
   "source": [
    "# Finding \"Pages You Might Like\""
   ]
  },
  {
   "cell_type": "code",
   "execution_count": 26,
   "id": "e3c280d8-d8eb-4b9a-adb9-673441753a0b",
   "metadata": {},
   "outputs": [
    {
     "name": "stdout",
     "output_type": "stream",
     "text": [
      " pages you might like for user 1:[103, 102, 104]\n"
     ]
    }
   ],
   "source": [
    "import json\n",
    "def load_data(cleaned_codebook_data):\n",
    "    with open (cleaned_codebook_data, \"r\") as file:\n",
    "        return json.load(file)\n",
    "\n",
    "# function to find pages a user might like based on common interests\n",
    "def find_pages_you_might_like(user_id, data):\n",
    "    # Dictionary to store user interactions with pages\n",
    "    user_pages = {}\n",
    "    for user in data[\"users\"]:\n",
    "        user_pages[user[\"id\"]]= set(user[\"liked_pages\"])\n",
    "    # if the user is not found, return an empty list\n",
    "    if user_id not in user_pages:\n",
    "        return []\n",
    "\n",
    "    user_liked_pages=user_pages[user_id]\n",
    "    page_suggestions ={}\n",
    "\n",
    "    for other_user, pages in user_pages.items():\n",
    "        if other_user !=user_id:\n",
    "            shared_pages= user_liked_pages.intersection(pages)\n",
    "            for page in  pages:\n",
    "                if page not in user_liked_pages:\n",
    "                    page_suggestions[page] = page_suggestions.get(page, 0) + len (shared_pages)\n",
    "\n",
    "    # Sort recommended pages based on the number of shared interactions\n",
    "    sorted_pages = sorted (page_suggestions.items(), key=lambda x: x[1], reverse=True)\n",
    "    return [page_id for page_id, _ in sorted_pages]\n",
    "\n",
    "# Load data \n",
    "data = load_data(\"cleaned_codebook_data.json\")\n",
    "user_id =1 # Example: finding recommedations for amit\n",
    "page_recommendations = find_pages_you_might_like(user_id, data)\n",
    "print(f\" pages you might like for user {user_id}:{page_recommendations}\")\n",
    "        \n",
    "    "
   ]
  },
  {
   "cell_type": "code",
   "execution_count": null,
   "id": "467f9c03-3c7c-4cf1-9d08-4b1fe182ce43",
   "metadata": {},
   "outputs": [],
   "source": []
  }
 ],
 "metadata": {
  "kernelspec": {
   "display_name": "Python 3 (ipykernel)",
   "language": "python",
   "name": "python3"
  },
  "language_info": {
   "codemirror_mode": {
    "name": "ipython",
    "version": 3
   },
   "file_extension": ".py",
   "mimetype": "text/x-python",
   "name": "python",
   "nbconvert_exporter": "python",
   "pygments_lexer": "ipython3",
   "version": "3.12.7"
  }
 },
 "nbformat": 4,
 "nbformat_minor": 5
}
